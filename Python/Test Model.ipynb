{
 "cells": [
  {
   "cell_type": "markdown",
   "metadata": {},
   "source": [
    "# Using the Similarity Model \n",
    "\n",
    "This notebook allows you to try out the model by submitting an image and getting back the top 10 most similar images.  \n",
    "\n",
    "First we'll set up the workspace with some imports and a few new functions."
   ]
  },
  {
   "cell_type": "code",
   "execution_count": null,
   "metadata": {
    "scrolled": true
   },
   "outputs": [],
   "source": [
    "%matplotlib inline\n",
    "import numpy as np\n",
    "from scipy import misc\n",
    "import matplotlib.pyplot as plt\n",
    "from skimage import data\n",
    "import pandas as pd\n",
    "from revoscalepy import RxSqlServerData, rx_data_step, rx_import\n",
    "from parameters import *\n",
    "from run_image_similarity import rank_candidates\n",
    "from image_utils import show_img, submit_img"
   ]
  },
  {
   "cell_type": "markdown",
   "metadata": {},
   "source": [
    "# Submiting a New Image \n",
    "This notebook is set up to process one image and return the 10 most similar images.  Try it out with a few of the images below by commenting out all but one of the images. "
   ]
  },
  {
   "cell_type": "code",
   "execution_count": null,
   "metadata": {
    "scrolled": false
   },
   "outputs": [],
   "source": [
    "img = \"../data/fashionTexture/zebra/81.jpg\"\n",
    "#img = \"../data/fashionTexture/floral/270.jpg\"\n",
    "#img = \"../data/fashionTexture/tartan/3000.jpg\"\n",
    "#img = \"../data/fashionTexture/argyle/3179.jpg\"\n",
    "show_img(img, \"Image to rank\")"
   ]
  },
  {
   "cell_type": "markdown",
   "metadata": {},
   "source": [
    "## Create the `TABLE_QUERY` table\n",
    "This step will wipe out the previous table contents and add our image into the table which will then be processed below."
   ]
  },
  {
   "cell_type": "code",
   "execution_count": null,
   "metadata": {
    "scrolled": true
   },
   "outputs": [],
   "source": [
    "conn_str = \"DRIVER={SQL Server};SERVER=localhost;PORT=1433;DATABASE=ImageSimilarity_Py;TRUSTED_CONNECTION=True\"\n",
    "submit_img(conn_str, TABLE_QUERY, img )"
   ]
  },
  {
   "cell_type": "markdown",
   "metadata": {},
   "source": [
    "## Featurize and predict scores for new image\n",
    "1.  We assume the predicted scores of all the candidate images are already saved in SQL table `@scores_table` (which they will be if you have run the PowerShell to create this solution). The first step in finding similar images is to then load the predicted scores for all the candidate images from the SQL table. We don't need to calculate them in this step.\n",
    "\n",
    "2. Our new image is in the the `TABLE_QUERY` table.  We load the query image from the SQL table, and then featurize the query image using pre-trained Resnet. Note this has to be the same pre-trained model which used in the step 1.\n",
    "\n",
    "3. Load the model which trained in step 3 from the SQL table `TABLE_MODEL`, and calculate the predicted scores for the query image using the model.\n",
    "\n",
    "4. Calculate the Cosine distance between each query image and all the candidates, based on the distance, return top K similar images for each query images. Users can set up parameter `TOP_K_CANDIDATES` to decide how many similar images should be returned for each query image.\n",
    " For example, here we set `TOP_K_CANDIDATES` equal to 10, so in the result table `TABLE_RESULTS`, each query image has 10 similar images.\n",
    "\n",
    "(*Parameters  `TABLE_QUERY`,`TABLE_MODEL`, `TOP_K_CANDIDATES`, and `TABLE_RESULTS` are set in the `parameters` file and imported at the top of this notebook.*)"
   ]
  },
  {
   "cell_type": "code",
   "execution_count": null,
   "metadata": {
    "scrolled": true
   },
   "outputs": [],
   "source": [
    "rank_candidates(conn_str, TABLE_QUERY, TABLE_MODEL, TABLE_RESULTS)"
   ]
  },
  {
   "cell_type": "markdown",
   "metadata": {},
   "source": [
    "## Retrieve results\n",
    "We will now read the reults from the above scoring."
   ]
  },
  {
   "cell_type": "code",
   "execution_count": null,
   "metadata": {
    "scrolled": true
   },
   "outputs": [],
   "source": [
    "data_source = RxSqlServerData(table=TABLE_RESULTS, connection_string=conn_str)\n",
    "df = pd.DataFrame(rx_import(input_data = data_source)) \n",
    "print(\"retrieved similar images\")"
   ]
  },
  {
   "cell_type": "markdown",
   "metadata": {},
   "source": [
    "## Display results\n",
    "Now we're ready to show the images.  Since we know we have 10 results, we'll display them in a 2x5 grid. "
   ]
  },
  {
   "cell_type": "code",
   "execution_count": null,
   "metadata": {
    "scrolled": false
   },
   "outputs": [],
   "source": [
    "# display the original image\n",
    "show_img(img, 'Image to rank')\n",
    "\n",
    "i = 0\n",
    "plt.figure(figsize=(20,10))\n",
    "\n",
    "# loop through the top 10 similar images and display in a grid\n",
    "while i < len(df):\n",
    "    photo_data = misc.imread(df['refImage'][i])\n",
    "    plt.suptitle('Similar Images', fontsize=20)\n",
    "    plt.subplot(2,5,i+1)\n",
    "    plt.axis('off')\n",
    "    plt.imshow(photo_data)\n",
    "    i += 1\n",
    "plt.show"
   ]
  },
  {
   "cell_type": "code",
   "execution_count": null,
   "metadata": {
    "collapsed": true,
    "scrolled": true
   },
   "outputs": [],
   "source": []
  }
 ],
 "metadata": {
  "kernelspec": {
   "display_name": "ML Server Python",
   "language": "python",
   "name": "ml016n"
  },
  "language_info": {
   "codemirror_mode": {
    "name": "ipython",
    "version": 3
   },
   "file_extension": ".py",
   "mimetype": "text/x-python",
   "name": "python",
   "nbconvert_exporter": "python",
   "pygments_lexer": "ipython3",
   "version": "3.5.2"
  }
 },
 "nbformat": 4,
 "nbformat_minor": 2
}
